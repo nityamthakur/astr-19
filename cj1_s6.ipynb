{
  "nbformat": 4,
  "nbformat_minor": 0,
  "metadata": {
    "colab": {
      "provenance": []
    },
    "kernelspec": {
      "name": "python3",
      "display_name": "Python 3"
    },
    "language_info": {
      "name": "python"
    }
  },
  "cells": [
    {
      "cell_type": "code",
      "source": [
        "import math\n",
        "import numpy as np\n",
        "def sin(x):\n",
        "  if type(x)== np.ndarray:\n",
        "    return np.sin(x)\n",
        "  else:\n",
        "    return math.sin(x)"
      ],
      "metadata": {
        "id": "kwHg7PvA1XAz"
      },
      "execution_count": 20,
      "outputs": []
    },
    {
      "cell_type": "markdown",
      "source": [
        "sin(x) returns the sine of a number using the math library sine  function. If x is a numpy array, the function returns an array where each element has been turned into its respective sine."
      ],
      "metadata": {
        "id": "63BMgnq6NtJD"
      }
    },
    {
      "cell_type": "code",
      "source": [
        "def cos(x):\n",
        "  if type(x)== np.ndarray:\n",
        "    return np.cos(x)\n",
        "  else:\n",
        "    return math.cos(x)"
      ],
      "metadata": {
        "id": "t5qAeGLo1arM"
      },
      "execution_count": 21,
      "outputs": []
    },
    {
      "cell_type": "markdown",
      "source": [
        "cos(x) returns the sine of a number using the math library cosine  function. If x is a numpy array, the function returns an array where each element has been turned into its respective cosine."
      ],
      "metadata": {
        "id": "FHu5KFMEOQBV"
      }
    },
    {
      "cell_type": "code",
      "source": [
        "def sin_table(lower,upper,entries):\n",
        "    x_array= np.linspace(lower,upper, entries)\n",
        "    sin_x_array= sin(x_array)\n",
        "    merged= np.column_stack((x_array,sin_x_array))\n",
        "    return merged\n",
        "\n",
        "sin_table= sin_table(0,2*math.pi,1000)\n",
        "\n",
        "\n",
        "def cos_table(lower,upper,entries):\n",
        "    x_array= np.linspace(lower,upper, entries)\n",
        "    cos_x_array= cos(x_array)\n",
        "    merged= np.column_stack((x_array,cos_x_array))\n",
        "    return merged\n",
        "\n",
        "cos_table= cos_table(0,2*math.pi,1000)"
      ],
      "metadata": {
        "id": "GUb40HI4158u"
      },
      "execution_count": 22,
      "outputs": []
    },
    {
      "cell_type": "code",
      "source": [
        "\n",
        "final=sin_table,cos_table\n",
        "print('x \\t\\t|\\t\\t sin(x)\\t\\t|\\t\\t cos(x)')\n",
        "for i in range(10):\n",
        "  x=sin_table[i,0]\n",
        "  sinx= sin_table[i,1]\n",
        "  cosx= cos_table[i,1]\n",
        "  #print(x,sinx,cosx)\n",
        "  print(f'{x:.4f}\\t\\t|\\t\\t{sinx:.4f}\\t\\t|\\t\\t{cosx:.4f}')"
      ],
      "metadata": {
        "colab": {
          "base_uri": "https://localhost:8080/"
        },
        "id": "rnI5hYnhHR-o",
        "outputId": "014c02f1-7f29-49c1-e4b6-8a69d1a628b9"
      },
      "execution_count": 23,
      "outputs": [
        {
          "output_type": "stream",
          "name": "stdout",
          "text": [
            "x \t\t|\t\t sin(x)\t\t|\t\t cos(x)\n",
            "0.0000\t\t|\t\t0.0000\t\t|\t\t1.0000\n",
            "0.0063\t\t|\t\t0.0063\t\t|\t\t1.0000\n",
            "0.0126\t\t|\t\t0.0126\t\t|\t\t0.9999\n",
            "0.0189\t\t|\t\t0.0189\t\t|\t\t0.9998\n",
            "0.0252\t\t|\t\t0.0252\t\t|\t\t0.9997\n",
            "0.0314\t\t|\t\t0.0314\t\t|\t\t0.9995\n",
            "0.0377\t\t|\t\t0.0377\t\t|\t\t0.9993\n",
            "0.0440\t\t|\t\t0.0440\t\t|\t\t0.9990\n",
            "0.0503\t\t|\t\t0.0503\t\t|\t\t0.9987\n",
            "0.0566\t\t|\t\t0.0566\t\t|\t\t0.9984\n"
          ]
        }
      ]
    },
    {
      "cell_type": "code",
      "source": [],
      "metadata": {
        "id": "Q5L5Xej7Odo6"
      },
      "execution_count": null,
      "outputs": []
    }
  ]
}